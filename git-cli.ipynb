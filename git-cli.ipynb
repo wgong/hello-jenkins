{
 "cells": [
  {
   "cell_type": "code",
   "execution_count": 1,
   "metadata": {},
   "outputs": [],
   "source": [
    "import os\n",
    "\n",
    "import subprocess"
   ]
  },
  {
   "cell_type": "code",
   "execution_count": 2,
   "metadata": {},
   "outputs": [],
   "source": [
    "cmd = f\"env TZ=Europe/Amsterdam date +%Y-%m-%d:%H%M\"\n",
    "cmd_out=subprocess.run(cmd.split(), stdout=subprocess.PIPE).stdout.decode('utf-8')"
   ]
  },
  {
   "cell_type": "code",
   "execution_count": 3,
   "metadata": {},
   "outputs": [
    {
     "data": {
      "text/plain": [
       "'2019-02-03:1756\\n'"
      ]
     },
     "execution_count": 3,
     "metadata": {},
     "output_type": "execute_result"
    }
   ],
   "source": [
    "cmd_out"
   ]
  },
  {
   "cell_type": "code",
   "execution_count": 4,
   "metadata": {},
   "outputs": [],
   "source": [
    "#!git log --name-only"
   ]
  },
  {
   "cell_type": "code",
   "execution_count": 9,
   "metadata": {},
   "outputs": [],
   "source": [
    "def parse_git_author(author):\n",
    "    import re\n",
    "    pat = r\"(.*) <(.*)>\"\n",
    "    matchObj = re.match(pat, author)\n",
    "    return matchObj.groups() if matchObj else None\n",
    "\n",
    "#if matchObj:\n",
    "# print(\"Matched\")\n",
    "# print(matchObj.groups())   \n",
    "# author_userid,author_email = matchObj.groups()\n",
    "# print(author_userid,author_email) "
   ]
  },
  {
   "cell_type": "code",
   "execution_count": 11,
   "metadata": {},
   "outputs": [
    {
     "name": "stdout",
     "output_type": "stream",
     "text": [
      "('wgong', 'wen.g.gong@gmail.com')\n"
     ]
    }
   ],
   "source": [
    "author = \"wgong <wen.g.gong@gmail.com>\"\n",
    "# author = \"wgong\"\n",
    "print(parse_git_author(author))"
   ]
  },
  {
   "cell_type": "code",
   "execution_count": 60,
   "metadata": {},
   "outputs": [],
   "source": [
    "def parse_git_log(log):\n",
    "    lst = log.split(\"commit \")\n",
    "    commit_log = []  # list of dict{commit:, Author:, Date:, msg:}\n",
    "    for i in lst:\n",
    "        if len(i) == 0: continue\n",
    "        dict_log = {}\n",
    "        fields = i.split('\\n')\n",
    "        dict_log[\"commit\"] = fields[0]\n",
    "        dict_log[\"Author\"] = fields[1].replace(\"Author:\", \"\").strip()\n",
    "        dict_log[\"Date\"] = fields[2].replace(\"Date:\", \"\").strip()\n",
    "        dict_log[\"msg\"] = fields[4].strip()\n",
    "        #dict_log[\"files\"] = fields[6].strip().split()\n",
    "        dict_log[\"files\"] = [i for i in fields[5:] if len(i)]\n",
    "        \n",
    "        commit_log.append(dict_log)\n",
    "    return commit_log"
   ]
  },
  {
   "cell_type": "code",
   "execution_count": 47,
   "metadata": {},
   "outputs": [],
   "source": [
    "cmd = f\"git log --name-only\"\n",
    "cmd_out=subprocess.run(cmd.split(), stdout=subprocess.PIPE).stdout.decode('utf-8')\n",
    "\n",
    "git_log = parse_git_log(cmd_out)"
   ]
  },
  {
   "cell_type": "code",
   "execution_count": 62,
   "metadata": {},
   "outputs": [
    {
     "data": {
      "text/plain": [
       "({'commit': 'c1260ab315b782f2bc056fa40f631ef23983a987',\n",
       "  'Author': 'wgong <wen.g.gong@gmail.com>',\n",
       "  'Date': 'Wed Jan 30 12:43:55 2019 -0500',\n",
       "  'msg': 'add date timezone',\n",
       "  'files': ['Jenkinsfile']},\n",
       " {'commit': '7a39e583c40683933767de35728f3c7d85915bed',\n",
       "  'Author': 'WGONG <wen.g.gong@gmail.com>',\n",
       "  'Date': 'Sun Jan 20 06:29:26 2019 -0500',\n",
       "  'msg': 'first commit',\n",
       "  'files': ['README.md']})"
      ]
     },
     "execution_count": 62,
     "metadata": {},
     "output_type": "execute_result"
    }
   ],
   "source": [
    "git_log[0], git_log[-1]"
   ]
  },
  {
   "cell_type": "markdown",
   "metadata": {},
   "source": [
    "##  [How to list all the files in a commit?](https://stackoverflow.com/questions/424071/how-to-list-all-the-files-in-a-commit)"
   ]
  },
  {
   "cell_type": "code",
   "execution_count": 32,
   "metadata": {},
   "outputs": [],
   "source": [
    "commit_id = \"7a39e583c40683933767de35728f3c7d85915bed\""
   ]
  },
  {
   "cell_type": "code",
   "execution_count": 39,
   "metadata": {},
   "outputs": [
    {
     "name": "stdout",
     "output_type": "stream",
     "text": [
      "\u001b[33mcommit 7a39e583c40683933767de35728f3c7d85915bed\u001b[m\r\n",
      "Author: WGONG <wen.g.gong@gmail.com>\r\n",
      "Date:   Sun Jan 20 06:29:26 2019 -0500\r\n",
      "\r\n",
      "    first commit\r\n",
      "\r\n",
      "\u001b[1mdiff --git a/README.md b/README.md\u001b[m\r\n",
      "\u001b[1mnew file mode 100644\u001b[m\r\n",
      "\u001b[1mindex 0000000..bc35f39\u001b[m\r\n",
      "\u001b[1m--- /dev/null\u001b[m\r\n",
      "\u001b[1m+++ b/README.md\u001b[m\r\n",
      "\u001b[36m@@ -0,0 +1 @@\u001b[m\r\n",
      "\u001b[32m+\u001b[m\u001b[32m# hello-jenkins\u001b[m\r\n"
     ]
    }
   ],
   "source": [
    "!git show 7a39e583c40683933767de35728f3c7d85915bed"
   ]
  },
  {
   "cell_type": "code",
   "execution_count": 36,
   "metadata": {},
   "outputs": [
    {
     "name": "stdout",
     "output_type": "stream",
     "text": [
      "commit c1260ab315b782f2bc056fa40f631ef23983a987\n",
      "Author: wgong <wen.g.gong@gmail.com>\n",
      "Date:   Wed Jan 30 12:43:55 2019 -0500\n",
      "\n",
      "    add date timezone\n",
      "\n",
      "diff --git a/Jenkinsfile b/Jenkinsfile\n",
      "index 2df7003..310a219 100644\n",
      "--- a/Jenkinsfile\n",
      "+++ b/Jenkinsfile\n",
      "@@ -6,6 +6,8 @@ pipeline {\n",
      "                 sh 'echo \"Hello Jenkins Pipeline\"'\n",
      "                 sh '''\n",
      "                     echo \"Multiline shell steps works\"\n",
      "+                    date\n",
      "+                    TZ=Europe/Amsterdam date +%Y-%m-%d:%H%M\n",
      "                     whoami\n",
      "                     pwd\n",
      "                     hostname\n",
      "\n"
     ]
    }
   ],
   "source": [
    "cmd = f\"git show {commit_id}\"\n",
    "cmd_out=subprocess.run(cmd.split(), stdout=subprocess.PIPE).stdout.decode('utf-8')\n",
    "\n",
    "print(cmd_out)"
   ]
  },
  {
   "cell_type": "code",
   "execution_count": 40,
   "metadata": {},
   "outputs": [
    {
     "name": "stdout",
     "output_type": "stream",
     "text": [
      "Jenkinsfile\n",
      "\n"
     ]
    }
   ],
   "source": [
    "# list filename only\n",
    "cmd=f\"git diff-tree --no-commit-id --name-only -r {commit_id}\"\n",
    "cmd_out=subprocess.run(cmd.split(), stdout=subprocess.PIPE).stdout.decode('utf-8')\n",
    "print(cmd_out)"
   ]
  },
  {
   "cell_type": "code",
   "execution_count": 63,
   "metadata": {},
   "outputs": [
    {
     "name": "stdout",
     "output_type": "stream",
     "text": [
      "c1260ab315b782f2bc056fa40f631ef23983a987 \n",
      " ['Jenkinsfile']\n",
      "8bd0d3da888634fea4d6619ba7cbf1a19edd1df0 \n",
      " ['Jenkinsfile']\n",
      "8f6e1a5faf163886270f8913478920d4c1d8149d \n",
      " ['Jenkinsfile', 'jenkins/Jenkinsfile.7.multi-steps-docker']\n",
      "69db2dddb8857eedd65171b11bc6d43469050bbf \n",
      " ['Jenkinsfile', 'jenkins/Jenkinsfile.5.python']\n",
      "7c019b636bb2242552fdcf1e4c40e8c06bf652e2 \n",
      " ['README.md']\n",
      "39e4cbb67c59d0dff6d76b7c52e491d3dcfc7333 \n",
      " ['Jenkinsfile', 'jenkins/Jenkinsfile.100.CICD']\n",
      "ee1017a8ea520960c6ff1640fd6e8d01e4c2c250 \n",
      " ['README.md']\n",
      "f1c9e0aabe1526fda399d55ec6cfb6b5f09d6e88 \n",
      " ['README.md']\n",
      "3f07508dd12515e917c41f851ae3e269ba523d1e \n",
      " ['README.md']\n",
      "473a959edc56393d5a4dfa1c82d2b113b92c3c38 \n",
      " ['Jenkinsfile', 'jenkins/Jenkinsfile.7.multi-steps']\n",
      "33cf96e110e9b82ac030d4896fb74c7a2852a436 \n",
      " ['Jenkinsfile']\n",
      "407ba5f5500fd571c74c2ba5ce6ba1a4938584ce \n",
      " ['Jenkinsfile']\n",
      "1fce68170453e0e544667e8e461172be3939a831 \n",
      " ['jenkins/Jenkinsfile.7.multi-steps', 'jenkins/Jenkinsfile.8.post']\n",
      "e37441e00aa611d097ca43b7154edffbc91cfcfe \n",
      " ['Jenkinsfile']\n",
      "e8b37588d53e867eaaaa16a01b27d85e3cf0f64e \n",
      " ['jenkins/Jenkinsfile.4.nodejs', 'jenkins/Jenkinsfile.5.python', 'jenkins/Jenkinsfile.6.go']\n",
      "4e4ada555f67d188756767e56c26ef1385c14480 \n",
      " ['Jenkinsfile', 'jenkins/Jenkinsfile.3.java']\n",
      "42668ab3d4440f15ee27f7597048449d49beeb63 \n",
      " ['Jenkinsfile', 'jenkins/Jenkinsfile.1.node', 'jenkins/Jenkinsfile.2.agent']\n",
      "bb2cdcfe9db65aa977f8f4b57dd9dad94a61cbc0 \n",
      " ['Jenkinsfile']\n",
      "7a39e583c40683933767de35728f3c7d85915bed \n",
      " ['README.md']\n"
     ]
    }
   ],
   "source": [
    "for log in git_log:\n",
    "    commit_id = log['commit']\n",
    "    files = log['files']\n",
    "    print(commit_id,\"\\n\",files)"
   ]
  },
  {
   "cell_type": "markdown",
   "metadata": {},
   "source": [
    "## [How to revert a Git repository to a previous commit](https://stackoverflow.com/questions/4114095/how-to-revert-a-git-repository-to-a-previous-commit)"
   ]
  },
  {
   "cell_type": "code",
   "execution_count": 69,
   "metadata": {},
   "outputs": [],
   "source": [
    "cmd = f\"git log --name-only\"\n",
    "cmd_out=subprocess.run(cmd.split(), stdout=subprocess.PIPE).stdout.decode('utf-8')\n",
    "\n",
    "git_log = parse_git_log(cmd_out)"
   ]
  },
  {
   "cell_type": "code",
   "execution_count": 72,
   "metadata": {},
   "outputs": [
    {
     "data": {
      "text/plain": [
       "[{'commit': '0cd6ba8ae71e7ce21a05624c544036a96ce73432',\n",
       "  'Author': 'wgong <wen.g.gong@gmail.com>',\n",
       "  'Date': 'Fri Feb 1 00:29:24 2019 -0500',\n",
       "  'msg': 'Revert \"add failed testcase\"',\n",
       "  'files': ['    ', '    This reverts ']},\n",
       " {'commit': '6b269a67c69ae80b28c63dce25a57a5ae7949bf9.',\n",
       "  'Author': '',\n",
       "  'Date': 'Jenkinsfile',\n",
       "  'msg': '',\n",
       "  'files': []},\n",
       " {'commit': '6b269a67c69ae80b28c63dce25a57a5ae7949bf9',\n",
       "  'Author': 'wgong <wen.g.gong@gmail.com>',\n",
       "  'Date': 'Fri Feb 1 00:21:59 2019 -0500',\n",
       "  'msg': 'add failed testcase',\n",
       "  'files': ['Jenkinsfile']}]"
      ]
     },
     "execution_count": 72,
     "metadata": {},
     "output_type": "execute_result"
    }
   ],
   "source": [
    "git_log[0:3]"
   ]
  },
  {
   "cell_type": "markdown",
   "metadata": {},
   "source": [
    "above testcase failed, let us revert it\n",
    "\n",
    "```\n",
    "git revert HEAD\n",
    "git commit -m \"revert to previous commit\"\n",
    "git push\n",
    "```"
   ]
  },
  {
   "cell_type": "code",
   "execution_count": null,
   "metadata": {},
   "outputs": [],
   "source": []
  }
 ],
 "metadata": {
  "kernelspec": {
   "display_name": "Python 3",
   "language": "python",
   "name": "python3"
  },
  "language_info": {
   "codemirror_mode": {
    "name": "ipython",
    "version": 3
   },
   "file_extension": ".py",
   "mimetype": "text/x-python",
   "name": "python",
   "nbconvert_exporter": "python",
   "pygments_lexer": "ipython3",
   "version": "3.6.5"
  }
 },
 "nbformat": 4,
 "nbformat_minor": 2
}
